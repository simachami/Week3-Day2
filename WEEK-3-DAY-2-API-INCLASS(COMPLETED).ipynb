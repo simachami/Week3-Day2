{
 "cells": [
  {
   "cell_type": "markdown",
   "metadata": {},
   "source": [
    "# APIs\n"
   ]
  },
  {
   "cell_type": "markdown",
   "metadata": {},
   "source": [
    "## Tasks Today:\n",
    "1) <b>Requests and the pokemon API </b> <br>\n",
    " "
   ]
  },
  {
   "cell_type": "markdown",
   "metadata": {},
   "source": [
    "# working with APis"
   ]
  },
  {
   "cell_type": "markdown",
   "metadata": {},
   "source": [
    "<p> What exactly is an API? <br> <br>\n",
    "API is the acronym for Application Programming Interface, which is a software intermediary that allows two applications to talk to each other. Each time you use an app like Facebook, send an instant message, or check the weather on your phone, you're using an API. </p>"
   ]
  },
  {
   "cell_type": "markdown",
   "metadata": {},
   "source": [
    "### The Poke API  allows you to retreive a pokemon's information from PokeAPI https://pokeapi.co/\n",
    "\n"
   ]
  },
  {
   "cell_type": "code",
   "execution_count": 21,
   "metadata": {},
   "outputs": [
    {
     "name": "stdout",
     "output_type": "stream",
     "text": [
      "What pokemon do you want information for?psyduck\n",
      "SUCCESS\n"
     ]
    }
   ],
   "source": [
    "# making an API call\n",
    "import requests\n",
    "\n",
    "pokemon = input('What pokemon do you want information for?')\n",
    "\n",
    "response = requests.get(f'https://pokeapi.co/api/v2/pokemon/{pokemon}')\n",
    "\n",
    "if response.status_code == 200:\n",
    "    print('SUCCESS')\n",
    "    data = response.json()\n",
    "else:\n",
    "    print(f'ERROR, STATUS CODE {response.status_code}')"
   ]
  },
  {
   "cell_type": "code",
   "execution_count": 22,
   "metadata": {},
   "outputs": [
    {
     "name": "stdout",
     "output_type": "stream",
     "text": [
      "psyduck\n"
     ]
    }
   ],
   "source": [
    "print(data['name'])"
   ]
  },
  {
   "cell_type": "markdown",
   "metadata": {},
   "source": [
    "### Display a Pokemon's name, weight, abilities, and types"
   ]
  },
  {
   "cell_type": "code",
   "execution_count": 23,
   "metadata": {},
   "outputs": [
    {
     "name": "stdout",
     "output_type": "stream",
     "text": [
      "psyduck\n"
     ]
    }
   ],
   "source": [
    "# get the name\n",
    "name = data['name']\n",
    "print(name)"
   ]
  },
  {
   "cell_type": "code",
   "execution_count": 24,
   "metadata": {},
   "outputs": [
    {
     "data": {
      "text/plain": [
       "[{'slot': 1,\n",
       "  'type': {'name': 'water', 'url': 'https://pokeapi.co/api/v2/type/11/'}}]"
      ]
     },
     "execution_count": 24,
     "metadata": {},
     "output_type": "execute_result"
    }
   ],
   "source": [
    "# get types\n",
    "data['types']"
   ]
  },
  {
   "cell_type": "code",
   "execution_count": 25,
   "metadata": {},
   "outputs": [
    {
     "data": {
      "text/plain": [
       "196"
      ]
     },
     "execution_count": 25,
     "metadata": {},
     "output_type": "execute_result"
    }
   ],
   "source": [
    "# get weight\n",
    "data['weight']"
   ]
  },
  {
   "cell_type": "code",
   "execution_count": 26,
   "metadata": {},
   "outputs": [
    {
     "data": {
      "text/plain": [
       "[{'ability': {'name': 'damp', 'url': 'https://pokeapi.co/api/v2/ability/6/'},\n",
       "  'is_hidden': False,\n",
       "  'slot': 1},\n",
       " {'ability': {'name': 'cloud-nine',\n",
       "   'url': 'https://pokeapi.co/api/v2/ability/13/'},\n",
       "  'is_hidden': False,\n",
       "  'slot': 2},\n",
       " {'ability': {'name': 'swift-swim',\n",
       "   'url': 'https://pokeapi.co/api/v2/ability/33/'},\n",
       "  'is_hidden': True,\n",
       "  'slot': 3}]"
      ]
     },
     "execution_count": 26,
     "metadata": {},
     "output_type": "execute_result"
    }
   ],
   "source": [
    "# get abilities\n",
    "data['abilities']"
   ]
  },
  {
   "cell_type": "code",
   "execution_count": 39,
   "metadata": {},
   "outputs": [],
   "source": [
    "ability_names = [item['ability']['name'] for item in data['abilities']]"
   ]
  },
  {
   "cell_type": "code",
   "execution_count": 40,
   "metadata": {},
   "outputs": [
    {
     "data": {
      "text/plain": [
       "['damp', 'cloud-nine', 'swift-swim']"
      ]
     },
     "execution_count": 40,
     "metadata": {},
     "output_type": "execute_result"
    }
   ],
   "source": [
    "ability_names"
   ]
  },
  {
   "cell_type": "code",
   "execution_count": 41,
   "metadata": {},
   "outputs": [],
   "source": [
    "# Create a structure for a single pokemon\n",
    "pokemon = {\n",
    "    'abilities': ability_names,\n",
    "    'name': data['name'],\n",
    "    'types': data['types'],\n",
    "    'weight': data['weight']\n",
    "}"
   ]
  },
  {
   "cell_type": "code",
   "execution_count": 42,
   "metadata": {},
   "outputs": [
    {
     "data": {
      "text/plain": [
       "{'abilities': ['damp', 'cloud-nine', 'swift-swim'],\n",
       " 'name': 'psyduck',\n",
       " 'types': [{'slot': 1,\n",
       "   'type': {'name': 'water', 'url': 'https://pokeapi.co/api/v2/type/11/'}}],\n",
       " 'weight': 196}"
      ]
     },
     "execution_count": 42,
     "metadata": {},
     "output_type": "execute_result"
    }
   ],
   "source": [
    "pokemon"
   ]
  },
  {
   "cell_type": "markdown",
   "metadata": {},
   "source": [
    "#### Create a function to Pull in your own Pokemon's data "
   ]
  },
  {
   "cell_type": "code",
   "execution_count": 47,
   "metadata": {},
   "outputs": [],
   "source": [
    "# Create a function that does the following:\n",
    "# Asks a user to input a pokemon name\n",
    "# Requests the poke api for that pokemon's information\n",
    "# Creates the dictionary from above with that pokemons information\n",
    "    # In addition to the above keys, include the height and the \"front_default\" sprite\n",
    "# Returns the dictionary\n",
    "\n",
    "def poke_api_call(pokemon=None):\n",
    "    if not pokemon:\n",
    "        pokemon = input('What pokemon do you want to select?')\n",
    "    \n",
    "    response = requests.get(f'https://pokeapi.co/api/v2/pokemon/{pokemon}')\n",
    "\n",
    "    if response.status_code == 200:\n",
    "        print('SUCCESS')\n",
    "        data = response.json()\n",
    "    else:\n",
    "        print(f'ERROR, STATUS CODE {response.status_code}')\n",
    "        return 'Error'\n",
    "    \n",
    "    ability_names = [item['ability']['name'] for item in data['abilities']]\n",
    "    \n",
    "    poke_dict = {\n",
    "        'abilities': ability_names,\n",
    "        'name': data['name'],\n",
    "        'types': data['types'],\n",
    "        'weight': data['weight'],\n",
    "        'height': data['height'],\n",
    "        'sprite': data['sprites']['front_default']\n",
    "    }\n",
    "    \n",
    "    return poke_dict"
   ]
  },
  {
   "cell_type": "code",
   "execution_count": 49,
   "metadata": {},
   "outputs": [
    {
     "name": "stdout",
     "output_type": "stream",
     "text": [
      "SUCCESS\n"
     ]
    },
    {
     "data": {
      "text/plain": [
       "{'abilities': ['static', 'lightning-rod'],\n",
       " 'name': 'pikachu',\n",
       " 'types': [{'slot': 1,\n",
       "   'type': {'name': 'electric', 'url': 'https://pokeapi.co/api/v2/type/13/'}}],\n",
       " 'weight': 60,\n",
       " 'height': 4,\n",
       " 'sprite': 'https://raw.githubusercontent.com/PokeAPI/sprites/master/sprites/pokemon/25.png'}"
      ]
     },
     "execution_count": 49,
     "metadata": {},
     "output_type": "execute_result"
    }
   ],
   "source": [
    "poke_api_call('pikachu')"
   ]
  },
  {
   "cell_type": "code",
   "execution_count": 55,
   "metadata": {},
   "outputs": [
    {
     "name": "stdout",
     "output_type": "stream",
     "text": [
      "What pokemon do you want to select?pikachu\n",
      "SUCCESS\n"
     ]
    },
    {
     "ename": "TypeError",
     "evalue": "unsupported operand type(s) for *: 'dict' and 'int'",
     "output_type": "error",
     "traceback": [
      "\u001b[1;31m---------------------------------------------------------------------------\u001b[0m",
      "\u001b[1;31mTypeError\u001b[0m                                 Traceback (most recent call last)",
      "\u001b[1;32m<ipython-input-55-ef94367159f3>\u001b[0m in \u001b[0;36m<module>\u001b[1;34m\u001b[0m\n\u001b[1;32m----> 1\u001b[1;33m \u001b[0mpoke_api_call\u001b[0m\u001b[1;33m(\u001b[0m\u001b[1;33m)\u001b[0m\u001b[1;33m*\u001b[0m\u001b[1;36m6\u001b[0m\u001b[1;33m\u001b[0m\u001b[1;33m\u001b[0m\u001b[0m\n\u001b[0m",
      "\u001b[1;31mTypeError\u001b[0m: unsupported operand type(s) for *: 'dict' and 'int'"
     ]
    }
   ],
   "source": []
  },
  {
   "cell_type": "markdown",
   "metadata": {},
   "source": [
    "Choose your pokemon"
   ]
  },
  {
   "cell_type": "code",
   "execution_count": 58,
   "metadata": {
    "collapsed": true
   },
   "outputs": [
    {
     "name": "stdout",
     "output_type": "stream",
     "text": [
      "SUCCESS\n",
      "SUCCESS\n",
      "SUCCESS\n",
      "SUCCESS\n",
      "SUCCESS\n",
      "SUCCESS\n"
     ]
    }
   ],
   "source": [
    "from random import randint\n",
    "# Random number generated for each pokemon id\n",
    "random_team = [randint(1,898) for i in range(6)]\n",
    "\n",
    "your_team = ['electabuzz', 'haunter','tyranitar','blaziken','marowak','dragonair']\n",
    "\n",
    "\n",
    "your_team_pokemon = []\n",
    "\n",
    "for teammate in your_team:\n",
    "    your_team_pokemon.append(poke_api_call(teammate))"
   ]
  },
  {
   "cell_type": "code",
   "execution_count": 60,
   "metadata": {
    "collapsed": true
   },
   "outputs": [
    {
     "name": "stdout",
     "output_type": "stream",
     "text": [
      "SUCCESS\n",
      "SUCCESS\n",
      "SUCCESS\n",
      "SUCCESS\n",
      "SUCCESS\n",
      "SUCCESS\n"
     ]
    },
    {
     "data": {
      "text/plain": [
       "[{'abilities': ['static', 'vital-spirit'],\n",
       "  'name': 'electabuzz',\n",
       "  'types': [{'slot': 1,\n",
       "    'type': {'name': 'electric',\n",
       "     'url': 'https://pokeapi.co/api/v2/type/13/'}}],\n",
       "  'weight': 300,\n",
       "  'height': 11,\n",
       "  'sprite': 'https://raw.githubusercontent.com/PokeAPI/sprites/master/sprites/pokemon/125.png'},\n",
       " {'abilities': ['levitate'],\n",
       "  'name': 'haunter',\n",
       "  'types': [{'slot': 1,\n",
       "    'type': {'name': 'ghost', 'url': 'https://pokeapi.co/api/v2/type/8/'}},\n",
       "   {'slot': 2,\n",
       "    'type': {'name': 'poison', 'url': 'https://pokeapi.co/api/v2/type/4/'}}],\n",
       "  'weight': 1,\n",
       "  'height': 16,\n",
       "  'sprite': 'https://raw.githubusercontent.com/PokeAPI/sprites/master/sprites/pokemon/93.png'},\n",
       " {'abilities': ['sand-stream', 'unnerve'],\n",
       "  'name': 'tyranitar',\n",
       "  'types': [{'slot': 1,\n",
       "    'type': {'name': 'rock', 'url': 'https://pokeapi.co/api/v2/type/6/'}},\n",
       "   {'slot': 2,\n",
       "    'type': {'name': 'dark', 'url': 'https://pokeapi.co/api/v2/type/17/'}}],\n",
       "  'weight': 2020,\n",
       "  'height': 20,\n",
       "  'sprite': 'https://raw.githubusercontent.com/PokeAPI/sprites/master/sprites/pokemon/248.png'},\n",
       " {'abilities': ['blaze', 'speed-boost'],\n",
       "  'name': 'blaziken',\n",
       "  'types': [{'slot': 1,\n",
       "    'type': {'name': 'fire', 'url': 'https://pokeapi.co/api/v2/type/10/'}},\n",
       "   {'slot': 2,\n",
       "    'type': {'name': 'fighting', 'url': 'https://pokeapi.co/api/v2/type/2/'}}],\n",
       "  'weight': 520,\n",
       "  'height': 19,\n",
       "  'sprite': 'https://raw.githubusercontent.com/PokeAPI/sprites/master/sprites/pokemon/257.png'},\n",
       " {'abilities': ['rock-head', 'lightning-rod', 'battle-armor'],\n",
       "  'name': 'marowak',\n",
       "  'types': [{'slot': 1,\n",
       "    'type': {'name': 'ground', 'url': 'https://pokeapi.co/api/v2/type/5/'}}],\n",
       "  'weight': 450,\n",
       "  'height': 10,\n",
       "  'sprite': 'https://raw.githubusercontent.com/PokeAPI/sprites/master/sprites/pokemon/105.png'},\n",
       " {'abilities': ['shed-skin', 'marvel-scale'],\n",
       "  'name': 'dragonair',\n",
       "  'types': [{'slot': 1,\n",
       "    'type': {'name': 'dragon', 'url': 'https://pokeapi.co/api/v2/type/16/'}}],\n",
       "  'weight': 165,\n",
       "  'height': 40,\n",
       "  'sprite': 'https://raw.githubusercontent.com/PokeAPI/sprites/master/sprites/pokemon/148.png'}]"
      ]
     },
     "execution_count": 60,
     "metadata": {},
     "output_type": "execute_result"
    }
   ],
   "source": [
    "list(map(poke_api_call, your_team))"
   ]
  },
  {
   "cell_type": "code",
   "execution_count": 59,
   "metadata": {
    "collapsed": true
   },
   "outputs": [
    {
     "data": {
      "text/plain": [
       "[{'abilities': ['static', 'vital-spirit'],\n",
       "  'name': 'electabuzz',\n",
       "  'types': [{'slot': 1,\n",
       "    'type': {'name': 'electric',\n",
       "     'url': 'https://pokeapi.co/api/v2/type/13/'}}],\n",
       "  'weight': 300,\n",
       "  'height': 11,\n",
       "  'sprite': 'https://raw.githubusercontent.com/PokeAPI/sprites/master/sprites/pokemon/125.png'},\n",
       " {'abilities': ['levitate'],\n",
       "  'name': 'haunter',\n",
       "  'types': [{'slot': 1,\n",
       "    'type': {'name': 'ghost', 'url': 'https://pokeapi.co/api/v2/type/8/'}},\n",
       "   {'slot': 2,\n",
       "    'type': {'name': 'poison', 'url': 'https://pokeapi.co/api/v2/type/4/'}}],\n",
       "  'weight': 1,\n",
       "  'height': 16,\n",
       "  'sprite': 'https://raw.githubusercontent.com/PokeAPI/sprites/master/sprites/pokemon/93.png'},\n",
       " {'abilities': ['sand-stream', 'unnerve'],\n",
       "  'name': 'tyranitar',\n",
       "  'types': [{'slot': 1,\n",
       "    'type': {'name': 'rock', 'url': 'https://pokeapi.co/api/v2/type/6/'}},\n",
       "   {'slot': 2,\n",
       "    'type': {'name': 'dark', 'url': 'https://pokeapi.co/api/v2/type/17/'}}],\n",
       "  'weight': 2020,\n",
       "  'height': 20,\n",
       "  'sprite': 'https://raw.githubusercontent.com/PokeAPI/sprites/master/sprites/pokemon/248.png'},\n",
       " {'abilities': ['blaze', 'speed-boost'],\n",
       "  'name': 'blaziken',\n",
       "  'types': [{'slot': 1,\n",
       "    'type': {'name': 'fire', 'url': 'https://pokeapi.co/api/v2/type/10/'}},\n",
       "   {'slot': 2,\n",
       "    'type': {'name': 'fighting', 'url': 'https://pokeapi.co/api/v2/type/2/'}}],\n",
       "  'weight': 520,\n",
       "  'height': 19,\n",
       "  'sprite': 'https://raw.githubusercontent.com/PokeAPI/sprites/master/sprites/pokemon/257.png'},\n",
       " {'abilities': ['rock-head', 'lightning-rod', 'battle-armor'],\n",
       "  'name': 'marowak',\n",
       "  'types': [{'slot': 1,\n",
       "    'type': {'name': 'ground', 'url': 'https://pokeapi.co/api/v2/type/5/'}}],\n",
       "  'weight': 450,\n",
       "  'height': 10,\n",
       "  'sprite': 'https://raw.githubusercontent.com/PokeAPI/sprites/master/sprites/pokemon/105.png'},\n",
       " {'abilities': ['shed-skin', 'marvel-scale'],\n",
       "  'name': 'dragonair',\n",
       "  'types': [{'slot': 1,\n",
       "    'type': {'name': 'dragon', 'url': 'https://pokeapi.co/api/v2/type/16/'}}],\n",
       "  'weight': 165,\n",
       "  'height': 40,\n",
       "  'sprite': 'https://raw.githubusercontent.com/PokeAPI/sprites/master/sprites/pokemon/148.png'}]"
      ]
     },
     "execution_count": 59,
     "metadata": {},
     "output_type": "execute_result"
    }
   ],
   "source": [
    "your_team_pokemon"
   ]
  },
  {
   "cell_type": "code",
   "execution_count": 61,
   "metadata": {},
   "outputs": [
    {
     "data": {
      "text/plain": [
       "[245, 333, 191, 436, 392, 105]"
      ]
     },
     "execution_count": 61,
     "metadata": {},
     "output_type": "execute_result"
    }
   ],
   "source": [
    "random_team"
   ]
  },
  {
   "cell_type": "code",
   "execution_count": 62,
   "metadata": {},
   "outputs": [
    {
     "name": "stdout",
     "output_type": "stream",
     "text": [
      "SUCCESS\n",
      "SUCCESS\n",
      "SUCCESS\n",
      "SUCCESS\n",
      "SUCCESS\n",
      "SUCCESS\n"
     ]
    }
   ],
   "source": [
    "random_team_pokemon = []\n",
    "\n",
    "for teammate in random_team:\n",
    "    random_team_pokemon.append(poke_api_call(teammate))"
   ]
  },
  {
   "cell_type": "code",
   "execution_count": 63,
   "metadata": {
    "collapsed": true
   },
   "outputs": [
    {
     "data": {
      "text/plain": [
       "[{'abilities': ['pressure', 'inner-focus'],\n",
       "  'name': 'suicune',\n",
       "  'types': [{'slot': 1,\n",
       "    'type': {'name': 'water', 'url': 'https://pokeapi.co/api/v2/type/11/'}}],\n",
       "  'weight': 1870,\n",
       "  'height': 20,\n",
       "  'sprite': 'https://raw.githubusercontent.com/PokeAPI/sprites/master/sprites/pokemon/245.png'},\n",
       " {'abilities': ['natural-cure', 'cloud-nine'],\n",
       "  'name': 'swablu',\n",
       "  'types': [{'slot': 1,\n",
       "    'type': {'name': 'normal', 'url': 'https://pokeapi.co/api/v2/type/1/'}},\n",
       "   {'slot': 2,\n",
       "    'type': {'name': 'flying', 'url': 'https://pokeapi.co/api/v2/type/3/'}}],\n",
       "  'weight': 12,\n",
       "  'height': 4,\n",
       "  'sprite': 'https://raw.githubusercontent.com/PokeAPI/sprites/master/sprites/pokemon/333.png'},\n",
       " {'abilities': ['chlorophyll', 'solar-power', 'early-bird'],\n",
       "  'name': 'sunkern',\n",
       "  'types': [{'slot': 1,\n",
       "    'type': {'name': 'grass', 'url': 'https://pokeapi.co/api/v2/type/12/'}}],\n",
       "  'weight': 18,\n",
       "  'height': 3,\n",
       "  'sprite': 'https://raw.githubusercontent.com/PokeAPI/sprites/master/sprites/pokemon/191.png'},\n",
       " {'abilities': ['levitate', 'heatproof', 'heavy-metal'],\n",
       "  'name': 'bronzor',\n",
       "  'types': [{'slot': 1,\n",
       "    'type': {'name': 'steel', 'url': 'https://pokeapi.co/api/v2/type/9/'}},\n",
       "   {'slot': 2,\n",
       "    'type': {'name': 'psychic', 'url': 'https://pokeapi.co/api/v2/type/14/'}}],\n",
       "  'weight': 605,\n",
       "  'height': 5,\n",
       "  'sprite': 'https://raw.githubusercontent.com/PokeAPI/sprites/master/sprites/pokemon/436.png'},\n",
       " {'abilities': ['blaze', 'iron-fist'],\n",
       "  'name': 'infernape',\n",
       "  'types': [{'slot': 1,\n",
       "    'type': {'name': 'fire', 'url': 'https://pokeapi.co/api/v2/type/10/'}},\n",
       "   {'slot': 2,\n",
       "    'type': {'name': 'fighting', 'url': 'https://pokeapi.co/api/v2/type/2/'}}],\n",
       "  'weight': 550,\n",
       "  'height': 12,\n",
       "  'sprite': 'https://raw.githubusercontent.com/PokeAPI/sprites/master/sprites/pokemon/392.png'},\n",
       " {'abilities': ['rock-head', 'lightning-rod', 'battle-armor'],\n",
       "  'name': 'marowak',\n",
       "  'types': [{'slot': 1,\n",
       "    'type': {'name': 'ground', 'url': 'https://pokeapi.co/api/v2/type/5/'}}],\n",
       "  'weight': 450,\n",
       "  'height': 10,\n",
       "  'sprite': 'https://raw.githubusercontent.com/PokeAPI/sprites/master/sprites/pokemon/105.png'}]"
      ]
     },
     "execution_count": 63,
     "metadata": {},
     "output_type": "execute_result"
    }
   ],
   "source": [
    "random_team_pokemon"
   ]
  },
  {
   "cell_type": "markdown",
   "metadata": {},
   "source": [
    "#### Use your function to create a dictionary of your Johto League 6  (favorite 6 pokemon)"
   ]
  },
  {
   "cell_type": "code",
   "execution_count": 64,
   "metadata": {},
   "outputs": [
    {
     "name": "stdout",
     "output_type": "stream",
     "text": [
      "SUCCESS\n",
      "SUCCESS\n",
      "SUCCESS\n",
      "SUCCESS\n",
      "SUCCESS\n",
      "SUCCESS\n"
     ]
    }
   ],
   "source": [
    "# Place all 6 of your pokemon on the object below, each pokemon should have at least as much info as Pikachu did.\n",
    "my_six_pokemon = {}\n",
    "\n",
    "for teammate in your_team:\n",
    "    my_six_pokemon[teammate] = poke_api_call(teammate)"
   ]
  },
  {
   "cell_type": "code",
   "execution_count": 65,
   "metadata": {
    "collapsed": true
   },
   "outputs": [
    {
     "data": {
      "text/plain": [
       "{'electabuzz': {'abilities': ['static', 'vital-spirit'],\n",
       "  'name': 'electabuzz',\n",
       "  'types': [{'slot': 1,\n",
       "    'type': {'name': 'electric',\n",
       "     'url': 'https://pokeapi.co/api/v2/type/13/'}}],\n",
       "  'weight': 300,\n",
       "  'height': 11,\n",
       "  'sprite': 'https://raw.githubusercontent.com/PokeAPI/sprites/master/sprites/pokemon/125.png'},\n",
       " 'haunter': {'abilities': ['levitate'],\n",
       "  'name': 'haunter',\n",
       "  'types': [{'slot': 1,\n",
       "    'type': {'name': 'ghost', 'url': 'https://pokeapi.co/api/v2/type/8/'}},\n",
       "   {'slot': 2,\n",
       "    'type': {'name': 'poison', 'url': 'https://pokeapi.co/api/v2/type/4/'}}],\n",
       "  'weight': 1,\n",
       "  'height': 16,\n",
       "  'sprite': 'https://raw.githubusercontent.com/PokeAPI/sprites/master/sprites/pokemon/93.png'},\n",
       " 'tyranitar': {'abilities': ['sand-stream', 'unnerve'],\n",
       "  'name': 'tyranitar',\n",
       "  'types': [{'slot': 1,\n",
       "    'type': {'name': 'rock', 'url': 'https://pokeapi.co/api/v2/type/6/'}},\n",
       "   {'slot': 2,\n",
       "    'type': {'name': 'dark', 'url': 'https://pokeapi.co/api/v2/type/17/'}}],\n",
       "  'weight': 2020,\n",
       "  'height': 20,\n",
       "  'sprite': 'https://raw.githubusercontent.com/PokeAPI/sprites/master/sprites/pokemon/248.png'},\n",
       " 'blaziken': {'abilities': ['blaze', 'speed-boost'],\n",
       "  'name': 'blaziken',\n",
       "  'types': [{'slot': 1,\n",
       "    'type': {'name': 'fire', 'url': 'https://pokeapi.co/api/v2/type/10/'}},\n",
       "   {'slot': 2,\n",
       "    'type': {'name': 'fighting', 'url': 'https://pokeapi.co/api/v2/type/2/'}}],\n",
       "  'weight': 520,\n",
       "  'height': 19,\n",
       "  'sprite': 'https://raw.githubusercontent.com/PokeAPI/sprites/master/sprites/pokemon/257.png'},\n",
       " 'marowak': {'abilities': ['rock-head', 'lightning-rod', 'battle-armor'],\n",
       "  'name': 'marowak',\n",
       "  'types': [{'slot': 1,\n",
       "    'type': {'name': 'ground', 'url': 'https://pokeapi.co/api/v2/type/5/'}}],\n",
       "  'weight': 450,\n",
       "  'height': 10,\n",
       "  'sprite': 'https://raw.githubusercontent.com/PokeAPI/sprites/master/sprites/pokemon/105.png'},\n",
       " 'dragonair': {'abilities': ['shed-skin', 'marvel-scale'],\n",
       "  'name': 'dragonair',\n",
       "  'types': [{'slot': 1,\n",
       "    'type': {'name': 'dragon', 'url': 'https://pokeapi.co/api/v2/type/16/'}}],\n",
       "  'weight': 165,\n",
       "  'height': 40,\n",
       "  'sprite': 'https://raw.githubusercontent.com/PokeAPI/sprites/master/sprites/pokemon/148.png'}}"
      ]
     },
     "execution_count": 65,
     "metadata": {},
     "output_type": "execute_result"
    }
   ],
   "source": [
    "my_six_pokemon"
   ]
  },
  {
   "cell_type": "markdown",
   "metadata": {},
   "source": [
    "## Lets create a class called 'Pokemon' and create our pokemon as instances"
   ]
  },
  {
   "cell_type": "code",
   "execution_count": null,
   "metadata": {},
   "outputs": [],
   "source": [
    "poke_dict = {\n",
    "    'abilities': ability_names,\n",
    "    'name': data['name'],\n",
    "    'types': data['types'],\n",
    "    'weight': data['weight'],\n",
    "    'height': data['height'],\n",
    "    'sprite': data['sprites']['front_default']\n",
    "}"
   ]
  },
  {
   "cell_type": "code",
   "execution_count": 85,
   "metadata": {},
   "outputs": [],
   "source": [
    "class Pokemon():\n",
    "    def __init__(self, name):\n",
    "        self.abilities = []\n",
    "        self.name = name\n",
    "        self.types = []\n",
    "        self.weight = None\n",
    "        self.height = None\n",
    "        self.sprite = None\n",
    "        self.poke_api_call()\n",
    "        \n",
    "    def poke_api_call(self):\n",
    "        response = requests.get(f'https://pokeapi.co/api/v2/pokemon/{self.name}')\n",
    "\n",
    "        if response.status_code == 200:\n",
    "            data = response.json()\n",
    "        else:\n",
    "            return 'Error'\n",
    "\n",
    "        ability_names = [item['ability']['name'] for item in data['abilities']]\n",
    "        \n",
    "        self.types = data['types']\n",
    "        self.abilities = ability_names\n",
    "        self.weight = data['weight']\n",
    "        self.height = data['height']\n",
    "        self.sprite = data['sprites']['front_default']\n",
    "        \n",
    "    def evolve(self):\n",
    "        new_poke = input(\"What pokemon should you evolve into?\")\n",
    "        self.name = new_poke\n",
    "        self.poke_api_call()"
   ]
  },
  {
   "cell_type": "code",
   "execution_count": 75,
   "metadata": {},
   "outputs": [],
   "source": [
    "pikachu = Pokemon('pikachu')"
   ]
  },
  {
   "cell_type": "code",
   "execution_count": 76,
   "metadata": {},
   "outputs": [
    {
     "name": "stdout",
     "output_type": "stream",
     "text": [
      "60\n"
     ]
    }
   ],
   "source": [
    "print(pikachu.weight)"
   ]
  },
  {
   "cell_type": "markdown",
   "metadata": {},
   "source": [
    "### Let's Catch some Pokemon"
   ]
  },
  {
   "cell_type": "code",
   "execution_count": null,
   "metadata": {},
   "outputs": [],
   "source": []
  },
  {
   "cell_type": "code",
   "execution_count": 77,
   "metadata": {},
   "outputs": [],
   "source": [
    "class Pokedex:\n",
    "    def __init__(self, player_name):\n",
    "        self.player_name = player_name\n",
    "        self.pokemon = {}\n",
    "        \n",
    "    def add_pokemon(self, name):\n",
    "        self.pokemon[name] = Pokemon(name)\n",
    "        print(f\"{name} was added to {self.player_name}'s pokedex.\")\n",
    "\n",
    "    # Add a pokemon lookup method to lookup a pokemon and display it's information (In a user friendly way)"
   ]
  },
  {
   "cell_type": "code",
   "execution_count": 78,
   "metadata": {},
   "outputs": [],
   "source": [
    "dylans_pokedex = Pokedex('dylan')"
   ]
  },
  {
   "cell_type": "code",
   "execution_count": 79,
   "metadata": {},
   "outputs": [
    {
     "name": "stdout",
     "output_type": "stream",
     "text": [
      "ho-oh was added to dylan's pokedex.\n"
     ]
    }
   ],
   "source": [
    "dylans_pokedex.add_pokemon('ho-oh')"
   ]
  },
  {
   "cell_type": "code",
   "execution_count": 80,
   "metadata": {},
   "outputs": [
    {
     "data": {
      "text/plain": [
       "{'ho-oh': <__main__.Pokemon at 0x2107d300a20>}"
      ]
     },
     "execution_count": 80,
     "metadata": {},
     "output_type": "execute_result"
    }
   ],
   "source": [
    "dylans_pokedex.pokemon"
   ]
  },
  {
   "cell_type": "markdown",
   "metadata": {},
   "source": [
    "## Exercise 1:"
   ]
  },
  {
   "cell_type": "markdown",
   "metadata": {},
   "source": [
    "### Create a Method prints an image of your pokemon\n",
    "\n",
    "<p>HINT: You may need another attribute as well to store your image url within. </p>"
   ]
  },
  {
   "cell_type": "code",
   "execution_count": 84,
   "metadata": {},
   "outputs": [
    {
     "data": {
      "image/png": "[encoded data removed]",
      "text/plain": [
       "<IPython.core.display.Image object>"
      ]
     },
     "metadata": {
      "image/png": {
       "width": 200
      }
     },
     "output_type": "display_data"
    }
   ],
   "source": [
    "# Display an image in Jupyter notebook\n",
    "from IPython.display import Image\n",
    "\n",
    "display(Image('https://raw.githubusercontent.com/PokeAPI/sprites/master/sprites/pokemon/245.png', width = 200))\n"
   ]
  },
  {
   "cell_type": "code",
   "execution_count": 16,
   "metadata": {},
   "outputs": [],
   "source": [
    "# recreate your pokemon class here\n",
    "class Pokemon:\n",
    "    pass"
   ]
  },
  {
   "cell_type": "code",
   "execution_count": null,
   "metadata": {},
   "outputs": [],
   "source": []
  },
  {
   "cell_type": "code",
   "execution_count": 18,
   "metadata": {},
   "outputs": [],
   "source": [
    "# Calling our new method\n"
   ]
  },
  {
   "cell_type": "markdown",
   "metadata": {},
   "source": [
    "## Exercise 2:"
   ]
  },
  {
   "cell_type": "markdown",
   "metadata": {},
   "source": [
    "### Create a Method that evolves your Pokemon\n",
    "If your pokemon can't evolve any further print a message that says \"\\<name of pokemon> can't evolve.\""
   ]
  },
  {
   "cell_type": "code",
   "execution_count": 321,
   "metadata": {},
   "outputs": [],
   "source": [
    "# Create a method for your Pokemon class that takes in user input, \n",
    "# to ask what new pokemon your current pokemon should evolve into."
   ]
  },
  {
   "cell_type": "code",
   "execution_count": null,
   "metadata": {},
   "outputs": [],
   "source": [
    "# Create a method\n",
    "# Take in user input, should be a pokemons name\n",
    "# Update the current pokemon's attributes (their height, weight, sprite, etc.) to the new pokemon's values\n"
   ]
  },
  {
   "cell_type": "markdown",
   "metadata": {},
   "source": [
    "Now let's evolve a few"
   ]
  },
  {
   "cell_type": "code",
   "execution_count": 92,
   "metadata": {
    "scrolled": true
   },
   "outputs": [
    {
     "name": "stdout",
     "output_type": "stream",
     "text": [
      "https://raw.githubusercontent.com/PokeAPI/sprites/master/sprites/pokemon/25.png\n"
     ]
    }
   ],
   "source": [
    "pikachu = Pokemon('pikachu')\n",
    "\n",
    "print(pikachu.sprite)"
   ]
  },
  {
   "cell_type": "code",
   "execution_count": 93,
   "metadata": {},
   "outputs": [
    {
     "name": "stdout",
     "output_type": "stream",
     "text": [
      "What pokemon should you evolve into?raichu\n"
     ]
    }
   ],
   "source": [
    "pikachu.evolve()"
   ]
  },
  {
   "cell_type": "code",
   "execution_count": 94,
   "metadata": {},
   "outputs": [
    {
     "data": {
      "text/plain": [
       "'https://raw.githubusercontent.com/PokeAPI/sprites/master/sprites/pokemon/26.png'"
      ]
     },
     "execution_count": 94,
     "metadata": {},
     "output_type": "execute_result"
    }
   ],
   "source": [
    "pikachu.sprite\n"
   ]
  },
  {
   "cell_type": "code",
   "execution_count": null,
   "metadata": {},
   "outputs": [],
   "source": []
  },
  {
   "cell_type": "markdown",
   "metadata": {},
   "source": [
    "#  Final Exercise (Optional): <br> <br>Create a Move_Tutor Class that will allow the Pokemon Class to inherit a move list.\n",
    "<br>\n",
    "<p>for an added bonus you can make sure that if a pokemon has 4 moves the user can choose one of them to replace with a new move. </p>"
   ]
  },
  {
   "cell_type": "code",
   "execution_count": 19,
   "metadata": {},
   "outputs": [],
   "source": [
    "class Move_Tutor:\n",
    "    def __init__(self):\n",
    "        self.move_list = []"
   ]
  },
  {
   "cell_type": "code",
   "execution_count": null,
   "metadata": {},
   "outputs": [],
   "source": []
  },
  {
   "cell_type": "code",
   "execution_count": 81,
   "metadata": {},
   "outputs": [
    {
     "name": "stdout",
     "output_type": "stream",
     "text": [
      "What move would you like to teach pikachu? spark\n",
      "pikachu learned spark!\n"
     ]
    }
   ],
   "source": [
    "pikachu.teach_move()\n"
   ]
  },
  {
   "cell_type": "code",
   "execution_count": 79,
   "metadata": {},
   "outputs": [
    {
     "name": "stdout",
     "output_type": "stream",
     "text": [
      "pikachu's moves'\n",
      "thunder\n",
      "surf\n",
      "earthquake\n"
     ]
    }
   ],
   "source": [
    "pikachu.show_moves()"
   ]
  }
 ],
 "metadata": {
  "kernelspec": {
   "display_name": "Python 3 (ipykernel)",
   "language": "python",
   "name": "python3"
  },
  "language_info": {
   "codemirror_mode": {
    "name": "ipython",
    "version": 3
   },
   "file_extension": ".py",
   "mimetype": "text/x-python",
   "name": "python",
   "nbconvert_exporter": "python",
   "pygments_lexer": "ipython3",
   "version": "3.10.9"
  }
 },
 "nbformat": 4,
 "nbformat_minor": 4
}
